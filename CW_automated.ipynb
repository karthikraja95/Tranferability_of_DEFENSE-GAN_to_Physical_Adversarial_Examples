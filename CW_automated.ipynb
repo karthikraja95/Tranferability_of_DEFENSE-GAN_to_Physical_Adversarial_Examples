{
 "cells": [
  {
   "cell_type": "code",
   "execution_count": 1,
   "metadata": {},
   "outputs": [
    {
     "name": "stderr",
     "output_type": "stream",
     "text": [
      "/Users/bibinsebastian/anaconda3/lib/python3.6/site-packages/h5py/__init__.py:36: FutureWarning: Conversion of the second argument of issubdtype from `float` to `np.floating` is deprecated. In future, it will be treated as `np.float64 == np.dtype(float).type`.\n",
      "  from ._conv import register_converters as _register_converters\n",
      "Using TensorFlow backend.\n"
     ]
    }
   ],
   "source": [
    "from __future__ import absolute_import\n",
    "from __future__ import division\n",
    "from __future__ import print_function\n",
    "from __future__ import unicode_literals\n",
    "\n",
    "import numpy as np\n",
    "import cv2\n",
    "import glob\n",
    "import matplotlib.pyplot as plt\n",
    "\n",
    "import os\n",
    "import time\n",
    "import re\n",
    "\n",
    "import tensorflow as tf\n",
    "from tensorflow.python.platform import flags\n",
    "import numpy as np\n",
    "import keras\n",
    "from keras import backend\n",
    "import pandas as pd \n",
    "\n",
    "from cleverhans.attacks import FastGradientMethod\n",
    "from cleverhans.dataset import MNIST\n",
    "from cleverhans.loss import CrossEntropy\n",
    "from cleverhans.train import train\n",
    "from cleverhans.utils import AccuracyReport\n",
    "from cleverhans.utils_keras import cnn_model\n",
    "from cleverhans.utils_keras import KerasModelWrapper\n",
    "from cleverhans.utils_tf import model_eval\n",
    "import matplotlib.pyplot as plt\n",
    "from sklearn.metrics import accuracy_score\n",
    "\n",
    "from cleverhans.attacks import CarliniWagnerL2\n",
    "\n",
    "import glob\n",
    "FLAGS = flags.FLAGS\n",
    "\n",
    "NB_EPOCHS = 6\n",
    "BATCH_SIZE = 128\n",
    "LEARNING_RATE = .001\n",
    "TRAIN_DIR = 'train_dir'\n",
    "FILENAME = 'mnist.ckpt'\n",
    "LOAD_MODEL = False\n",
    "\n"
   ]
  },
  {
   "cell_type": "code",
   "execution_count": 2,
   "metadata": {},
   "outputs": [],
   "source": [
    "classifier = keras.models.load_model(\"64_new_cropped_model_15_epo.h5\")\n",
    "import random\n",
    "random.seed = 99"
   ]
  },
  {
   "cell_type": "code",
   "execution_count": 3,
   "metadata": {},
   "outputs": [],
   "source": [
    "# # Args\n",
    "# FLAGS = flags.FLAGS\n",
    "\n",
    "# VIZ_ENABLED = True\n",
    "# BATCH_SIZE = 128\n",
    "# NB_EPOCHS = 6\n",
    "# SOURCE_SAMPLES = 10\n",
    "# LEARNING_RATE = .001\n",
    "# CW_LEARNING_RATE = .005\n",
    "# ATTACK_ITERATIONS = 100\n",
    "# MODEL_PATH = ''\n",
    "# TARGETED = False"
   ]
  },
  {
   "cell_type": "code",
   "execution_count": 4,
   "metadata": {},
   "outputs": [],
   "source": [
    "def cw_attack(attack_iterations,src,CW_LEARNING_RATE,folder_num):\n",
    "    \"\"\"\n",
    "    MNIST CleverHans tutorial\n",
    "    :param train_start: index of first training set example\n",
    "    :param train_end: index of last training set example\n",
    "    :param test_start: index of first test set example\n",
    "    :param test_end: index of last test set example\n",
    "    :param nb_epochs: number of epochs to train model\n",
    "    :param batch_size: size of training batches\n",
    "    :param learning_rate: learning rate for training\n",
    "    :param train_dir: Directory storing the saved model\n",
    "    :param filename: Filename to save model under\n",
    "    :param load_model: True for load, False for not load\n",
    "    :param testing: if true, test error is calculated\n",
    "    :param label_smoothing: float, amount of label smoothing for cross entropy\n",
    "    :return: an AccuracyReport object\n",
    "    \"\"\"\n",
    "    keras.layers.core.K.set_learning_phase(0)\n",
    "\n",
    "\n",
    "    # Set TF random seed to improve reproducibility\n",
    "    tf.set_random_seed(1234)\n",
    "\n",
    "    if not hasattr(backend, \"tf\"):\n",
    "        raise RuntimeError(\"This tutorial requires keras to be configured\"\n",
    "                           \" to use the TensorFlow backend.\")\n",
    "\n",
    "    if keras.backend.image_dim_ordering() != 'tf':\n",
    "        keras.backend.set_image_dim_ordering('tf')\n",
    "        print(\"INFO: '~/.keras/keras.json' sets 'image_dim_ordering' to \"\n",
    "              \"'th', temporarily setting to 'tf'\")\n",
    "\n",
    "    img_folder = src+'/*/*.jpg'\n",
    "    \n",
    "    dest_folder = 'CW_Phase'+str(folder_num)+'CW_LR'+str(CW_LEARNING_RATE)    \n",
    "    if not os.path.exists(dest_folder):\n",
    "        os.makedirs(dest_folder)\n",
    "    m = dest_folder + '/Male'\n",
    "    f = dest_folder + '/Female'\n",
    "    if not os.path.exists(m):\n",
    "        os.makedirs(m)\n",
    "    if not os.path.exists(f):\n",
    "        os.makedirs(f)\n",
    "    \n",
    "        \n",
    "    dest_folder = dest_folder\n",
    "    \n",
    "\n",
    "    # Change address\n",
    "    addrs = glob.glob(img_folder)\n",
    "    image =[]\n",
    "    for add in addrs:\n",
    "      img = cv2.imread(add);\n",
    "      img = cv2.resize(img, (64, 64), interpolation=cv2.INTER_CUBIC)\n",
    "      img = cv2.cvtColor(img, cv2.COLOR_BGR2RGB)\n",
    "      img = img /255\n",
    "      image.append(img)\n",
    "\n",
    "    x_celeba = np.array(image)\n",
    "    # Obtain Image Parameters\n",
    "\n",
    "    #ADD RIGHT DATA \n",
    "    img_rows, img_cols, nchannels = x_celeba.shape[1:4]\n",
    "\n",
    "    #MALE OR FEMALE \n",
    "    nb_classes = 1\n",
    "\n",
    "    # Define input TF placeholder\n",
    "    x = tf.placeholder(tf.float32, shape=(None, img_rows, img_cols,\n",
    "                                        nchannels))\n",
    "    y = tf.placeholder(tf.float32, shape=(None, nb_classes))\n",
    "\n",
    "\n",
    "    keras_wrapped_model = KerasModelWrapper(classifier)\n",
    "\n",
    "    # get session from the model\n",
    "    sess =keras.backend.get_session()\n",
    "    # create attack object\n",
    "    adv_ys = None\n",
    "    yname = \"y\"\n",
    "    VIZ_ENABLED = True\n",
    "    BATCH_SIZE = 128\n",
    "    NB_EPOCHS = 6\n",
    "    SOURCE_SAMPLES = 10\n",
    "    LEARNING_RATE = .001\n",
    "    ATTACK_ITERATIONS = attack_iterations\n",
    "\n",
    "    cw = CarliniWagnerL2(keras_wrapped_model, sess=sess)\n",
    "\n",
    "    cw_params = {'binary_search_steps': 1,\n",
    "               yname: adv_ys,\n",
    "               'max_iterations': ATTACK_ITERATIONS,\n",
    "               'learning_rate': CW_LEARNING_RATE,\n",
    "               'batch_size': 10,\n",
    "               'initial_const': 10}\n",
    "\n",
    "    adv_x = cw.generate_np(x_celeba,**cw_params)\n",
    "\n",
    "\n",
    "    # Consider the attack to be constant\n",
    "    adv_x = tf.stop_gradient(adv_x) \n",
    "    attack_images = adv_x.eval(session =sess)\n",
    "    y = np.concatenate([np.ones(50),np.zeros(50)])\n",
    "\n",
    "    \n",
    "    adv_pred = classifier.predict_classes(attack_images)\n",
    "    # accuracy score\n",
    "    \n",
    "    acc = accuracy_score(y, adv_pred)\n",
    "    adv_prob = classifier.predict_proba(attack_images)\n",
    "    probcsv = dest_folder + '/Pred_prob.csv' \n",
    "    \n",
    "    \n",
    "    df = pd.DataFrame(adv_prob)\n",
    "    df = pd.concat([pd.Series(addrs),df],axis=1)\n",
    "    df.to_csv(probcsv)\n",
    "    \n",
    "    reg = src\n",
    "    \n",
    "    adv_addrs = [re.sub(reg,dest_folder,x) for x in addrs]\n",
    "    \n",
    "    \n",
    "    for i, a in enumerate(attack_images):\n",
    "        plt.imsave(adv_addrs[i],a)\n",
    "\n",
    "\n",
    "    return(acc)\n"
   ]
  },
  {
   "cell_type": "code",
   "execution_count": 5,
   "metadata": {},
   "outputs": [],
   "source": [
    "attack_iterations = 100\n",
    "CW_LR = [0.0005,0.003,0.005,0.009,0.02,0.04,0.07]\n",
    "img_folder = 'clean'"
   ]
  },
  {
   "cell_type": "code",
   "execution_count": 6,
   "metadata": {
    "scrolled": true
   },
   "outputs": [
    {
     "name": "stderr",
     "output_type": "stream",
     "text": [
      "[INFO 2018-11-25 00:07:34,749 cleverhans] Constructing new graph for attack CarliniWagnerL2\n",
      "[INFO 2018-11-25 01:01:54,333 cleverhans] Constructing new graph for attack CarliniWagnerL2\n"
     ]
    },
    {
     "name": "stdout",
     "output_type": "stream",
     "text": [
      "Accuracy for 0.0005 0.17\n",
      "Total time for 0.0005 -3259.6189348697662\n"
     ]
    },
    {
     "name": "stderr",
     "output_type": "stream",
     "text": [
      "[INFO 2018-11-25 01:19:07,419 cleverhans] Constructing new graph for attack CarliniWagnerL2\n"
     ]
    },
    {
     "name": "stdout",
     "output_type": "stream",
     "text": [
      "Accuracy for 0.003 0.0\n",
      "Total time for 0.003 -1033.113486289978\n"
     ]
    },
    {
     "name": "stderr",
     "output_type": "stream",
     "text": [
      "[INFO 2018-11-25 01:30:55,393 cleverhans] Constructing new graph for attack CarliniWagnerL2\n"
     ]
    },
    {
     "name": "stdout",
     "output_type": "stream",
     "text": [
      "Accuracy for 0.005 0.0\n",
      "Total time for 0.005 -707.9669110774994\n"
     ]
    },
    {
     "name": "stderr",
     "output_type": "stream",
     "text": [
      "[INFO 2018-11-25 01:41:15,517 cleverhans] Constructing new graph for attack CarliniWagnerL2\n"
     ]
    },
    {
     "name": "stdout",
     "output_type": "stream",
     "text": [
      "Accuracy for 0.009 0.0\n",
      "Total time for 0.009 -620.1328999996185\n"
     ]
    },
    {
     "name": "stderr",
     "output_type": "stream",
     "text": [
      "[INFO 2018-11-25 02:06:25,858 cleverhans] Constructing new graph for attack CarliniWagnerL2\n"
     ]
    },
    {
     "name": "stdout",
     "output_type": "stream",
     "text": [
      "Accuracy for 0.02 0.0\n",
      "Total time for 0.02 -1510.3357229232788\n"
     ]
    },
    {
     "name": "stderr",
     "output_type": "stream",
     "text": [
      "[INFO 2018-11-25 02:34:11,805 cleverhans] Constructing new graph for attack CarliniWagnerL2\n"
     ]
    },
    {
     "name": "stdout",
     "output_type": "stream",
     "text": [
      "Accuracy for 0.04 0.0\n",
      "Total time for 0.04 -1665.9499051570892\n",
      "Accuracy for 0.07 0.0\n",
      "Total time for 0.07 -1511.0610539913177\n"
     ]
    }
   ],
   "source": [
    "accuracy = []\n",
    "for i,CW_LEARNING_RATE in enumerate(CW_LR):\n",
    "    start = time.time()\n",
    "    acc = cw_attack(100,img_folder,CW_LEARNING_RATE,i+1)\n",
    "    end = time.time()\n",
    "    accuracy.append(acc)\n",
    "    print('Accuracy for {}'.format(CW_LEARNING_RATE), accuracy[i])\n",
    "    print(\"Total time for {}\".format(CW_LEARNING_RATE), (start-end))\n"
   ]
  },
  {
   "cell_type": "code",
   "execution_count": 7,
   "metadata": {},
   "outputs": [
    {
     "data": {
      "text/plain": [
       "array([[0.0005, 0.003 , 0.005 , 0.009 , 0.02  , 0.04  , 0.07  ],\n",
       "       [0.17  , 0.    , 0.    , 0.    , 0.    , 0.    , 0.    ]])"
      ]
     },
     "execution_count": 7,
     "metadata": {},
     "output_type": "execute_result"
    }
   ],
   "source": [
    "c= np.vstack((CW_LR,accuracy))\n",
    "c"
   ]
  },
  {
   "cell_type": "code",
   "execution_count": 8,
   "metadata": {},
   "outputs": [],
   "source": [
    "report = pd.DataFrame(c.T,columns=['Learning_Rate','Accuracy'])"
   ]
  },
  {
   "cell_type": "code",
   "execution_count": 9,
   "metadata": {},
   "outputs": [],
   "source": [
    "report.to_csv('CW_attack_accuracy.csv')"
   ]
  },
  {
   "cell_type": "code",
   "execution_count": null,
   "metadata": {},
   "outputs": [],
   "source": []
  }
 ],
 "metadata": {
  "kernelspec": {
   "display_name": "Python 3",
   "language": "python",
   "name": "python3"
  },
  "language_info": {
   "codemirror_mode": {
    "name": "ipython",
    "version": 3
   },
   "file_extension": ".py",
   "mimetype": "text/x-python",
   "name": "python",
   "nbconvert_exporter": "python",
   "pygments_lexer": "ipython3",
   "version": "3.6.5"
  }
 },
 "nbformat": 4,
 "nbformat_minor": 2
}
