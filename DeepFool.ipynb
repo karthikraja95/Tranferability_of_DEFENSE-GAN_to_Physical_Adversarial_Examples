{
 "cells": [
  {
   "cell_type": "code",
   "execution_count": 1,
   "metadata": {},
   "outputs": [
    {
     "name": "stderr",
     "output_type": "stream",
     "text": [
      "C:\\Users\\karth\\Anaconda3\\lib\\site-packages\\h5py\\__init__.py:36: FutureWarning: Conversion of the second argument of issubdtype from `float` to `np.floating` is deprecated. In future, it will be treated as `np.float64 == np.dtype(float).type`.\n",
      "  from ._conv import register_converters as _register_converters\n",
      "Using TensorFlow backend.\n"
     ]
    }
   ],
   "source": [
    "\n",
    "from __future__ import absolute_import\n",
    "from __future__ import division\n",
    "from __future__ import print_function\n",
    "from __future__ import unicode_literals\n",
    "\n",
    "import os\n",
    "\n",
    "import tensorflow as tf\n",
    "from tensorflow.python.platform import flags\n",
    "import numpy as np\n",
    "import keras\n",
    "from keras import backend\n",
    "import pandas as pd \n",
    "\n",
    "\n",
    "from cleverhans.attacks import DeepFool\n",
    "from cleverhans.dataset import MNIST\n",
    "from cleverhans.loss import CrossEntropy\n",
    "from cleverhans.train import train\n",
    "from cleverhans.utils import AccuracyReport\n",
    "from cleverhans.utils_keras import cnn_model\n",
    "from cleverhans.utils_keras import KerasModelWrapper\n",
    "from cleverhans.utils_tf import model_eval\n",
    "import matplotlib.pyplot as plt\n",
    "from sklearn.metrics import accuracy_score\n",
    "\n",
    "import glob\n",
    "FLAGS = flags.FLAGS\n",
    "\n",
    "NB_EPOCHS = 1\n",
    "BATCH_SIZE = 32\n",
    "LEARNING_RATE = .01\n",
    "TRAIN_DIR = 'train_dir'\n",
    "FILENAME = 'mnist.ckpt'\n",
    "LOAD_MODEL = False\n",
    "\n"
   ]
  },
  {
   "cell_type": "code",
   "execution_count": 2,
   "metadata": {
    "scrolled": true
   },
   "outputs": [],
   "source": [
    "\n",
    "#################################################\n",
    "# Loading the saved model\n",
    "classifier = keras.models.load_model(\"64_new_cropped_model_15_epo.h5\")\n",
    "#classifier = keras.models.load_model(\"64_cnn_model1542233355.64.h5\")"
   ]
  },
  {
   "cell_type": "code",
   "execution_count": 3,
   "metadata": {},
   "outputs": [],
   "source": [
    "# Creating adverserial images \n",
    "\n",
    "def adverserial(train_start=0, train_end=60000, test_start=0,\n",
    "                 test_end=10000, nb_epochs=NB_EPOCHS, batch_size=BATCH_SIZE,\n",
    "                 learning_rate=LEARNING_RATE, train_dir=TRAIN_DIR,\n",
    "                 filename=FILENAME, load_model=LOAD_MODEL,\n",
    "                 testing=False, label_smoothing=0.1,eps=0.0005):\n",
    "  \"\"\"\n",
    "  MNIST CleverHans tutorial\n",
    "  :param train_start: index of first training set example\n",
    "  :param train_end: index of last training set example\n",
    "  :param test_start: index of first test set example\n",
    "  :param test_end: index of last test set example\n",
    "  :param nb_epochs: number of epochs to train model\n",
    "  :param batch_size: size of training batches\n",
    "  :param learning_rate: learning rate for training\n",
    "  :param train_dir: Directory storing the saved model\n",
    "  :param filename: Filename to save model under\n",
    "  :param load_model: True for load, False for not load\n",
    "  :param testing: if true, test error is calculated\n",
    "  :param label_smoothing: float, amount of label smoothing for cross entropy\n",
    "  :return: an AccuracyReport object\n",
    "  \"\"\"\n",
    "  keras.layers.core.K.set_learning_phase(0)\n",
    "\n",
    "  # Object used to keep track of (and return) key accuracies\n",
    "  report = AccuracyReport()\n",
    "\n",
    "  # Set TF random seed to improve reproducibility\n",
    "  tf.set_random_seed(1234)\n",
    "\n",
    "  if not hasattr(backend, \"tf\"):\n",
    "    raise RuntimeError(\"This tutorial requires keras to be configured\"\n",
    "                       \" to use the TensorFlow backend.\")\n",
    "\n",
    "  if keras.backend.image_dim_ordering() != 'tf':\n",
    "    keras.backend.set_image_dim_ordering('tf')\n",
    "    print(\"INFO: '~/.keras/keras.json' sets 'image_dim_ordering' to \"\n",
    "          \"'th', temporarily setting to 'tf'\")\n",
    "\n",
    "\n",
    "\n",
    "  import numpy as np\n",
    "  import cv2\n",
    "  import glob\n",
    "  import matplotlib.pyplot as plt\n",
    "  # Change address\n",
    "  addrs = glob.glob('clean_pic/*.jpg')\n",
    "  image =[]\n",
    "  for add in addrs:\n",
    "      img = cv2.imread(add);\n",
    "      img = cv2.resize(img, (64, 64), interpolation=cv2.INTER_CUBIC)\n",
    "      img = cv2.cvtColor(img, cv2.COLOR_BGR2RGB)\n",
    "      img = img /255\n",
    "      image.append(img)\n",
    "    \n",
    "  x_celeba = np.array(image)\n",
    "  # Obtain Image Parameters\n",
    "\n",
    "  #ADD RIGHT DATA \n",
    "  img_rows, img_cols, nchannels = x_celeba.shape[1:4]\n",
    "\n",
    "  #MALE OR FEMALE \n",
    "  nb_classes = 1\n",
    "\n",
    "  # Define input TF placeholder\n",
    "  x = tf.placeholder(tf.float32, shape=(None, img_rows, img_cols,\n",
    "                                        nchannels))\n",
    "  y = tf.placeholder(tf.float32, shape=(None, nb_classes))\n",
    "\n",
    "\n",
    "  keras_wrapped_model = KerasModelWrapper(classifier)\n",
    "\n",
    "  # get session from the model\n",
    "  sess =keras.backend.get_session()\n",
    "    # create attack object\n",
    "  #fgsm = FastGradientMethod(keras_wrapped_model, sess=sess)\n",
    "  deepfool = DeepFool(keras_wrapped_model, sess=sess)\n",
    "\n",
    "  #jsma_params = {'theta': 1., 'gamma': 0.1,\n",
    "  #               'clip_min': 0., 'clip_max': 1.}\n",
    "  deep_params = {'nb_candidate': 2, 'overshoot':0.02, 'max_iter':50, 'clip_min':0, 'clip_max':1}\n",
    "  adv_x = deepfool.generate_np(x_celeba, **deep_params)\n",
    "  # Consider the attack to be constant\n",
    "  adv_x = tf.stop_gradient(adv_x) \n",
    "  a = adv_x.eval(session =sess)\n",
    "  #plt.imshow(a[0])\n",
    "  return(a)\n"
   ]
  },
  {
   "cell_type": "code",
   "execution_count": 4,
   "metadata": {},
   "outputs": [
    {
     "name": "stderr",
     "output_type": "stream",
     "text": [
      "[INFO 2018-11-27 10:10:35,734 cleverhans] Constructing new graph for attack DeepFool\n",
      "[INFO 2018-11-27 10:10:43,427 cleverhans] Attack result at iteration 5 is [0 0 0 0 0 0 0 0 1 0 0 0 0 0 0 0 0 0 1 0 1 0 0 0 0 0 0 0 0 0 0 0 0 0 0 0 0\n",
      " 0 0 0 0 1 0 0 0 0 0 0 0 0]\n",
      "[INFO 2018-11-27 10:10:44,934 cleverhans] Attack result at iteration 6 is [0 0 0 0 0 0 0 0 0 0 0 0 0 0 0 0 0 0 0 0 0 0 0 0 0 0 0 0 0 0 0 0 0 0 0 0 0\n",
      " 0 0 0 0 0 0 0 0 0 0 0 0 0]\n",
      "[INFO 2018-11-27 10:10:44,934 cleverhans] 50 out of 50 become adversarial examples at iteration 6\n"
     ]
    }
   ],
   "source": [
    "# change the eps that suits our purpose\n",
    "adv = adverserial(nb_epochs=1,\n",
    "                 batch_size=32,\n",
    "                 learning_rate=0.01,\n",
    "                 train_dir=\"dir\",\n",
    "                 filename=\"file\",\n",
    "                 load_model=False,\n",
    "                    eps=0.5)"
   ]
  },
  {
   "cell_type": "code",
   "execution_count": 5,
   "metadata": {},
   "outputs": [
    {
     "data": {
      "text/plain": [
       "(50, 64, 64, 3)"
      ]
     },
     "execution_count": 5,
     "metadata": {},
     "output_type": "execute_result"
    }
   ],
   "source": [
    "adv.shape"
   ]
  },
  {
   "cell_type": "code",
   "execution_count": 14,
   "metadata": {
    "scrolled": true
   },
   "outputs": [
    {
     "data": {
      "text/plain": [
       "<matplotlib.image.AxesImage at 0x120660863c8>"
      ]
     },
     "execution_count": 14,
     "metadata": {},
     "output_type": "execute_result"
    },
    {
     "data": {
      "image/png": "[encoded data removed]",
      "text/plain": [
       "<matplotlib.figure.Figure at 0x12065f9c4e0>"
      ]
     },
     "metadata": {},
     "output_type": "display_data"
    }
   ],
   "source": [
    "# print one adverserial image\n",
    "plt.imshow(adv[10])"
   ]
  },
  {
   "cell_type": "code",
   "execution_count": 7,
   "metadata": {},
   "outputs": [
    {
     "data": {
      "text/plain": [
       "array([0, 0, 0, 0, 0, 0, 0, 0, 0, 0, 0, 0, 0, 0, 0, 0, 0, 0, 0, 0, 0, 0,\n",
       "       0, 0, 0, 0, 0, 0, 0, 0, 0, 0, 0, 0, 0, 0, 0, 0, 0, 0, 0, 0, 0, 0,\n",
       "       0, 0, 0, 0, 0, 0], dtype=int64)"
      ]
     },
     "execution_count": 7,
     "metadata": {},
     "output_type": "execute_result"
    }
   ],
   "source": [
    "# predict classes on 0.5 probability threshold\n",
    "adv_pred = classifier.predict_classes(adv)\n",
    "adv_pred"
   ]
  },
  {
   "cell_type": "code",
   "execution_count": 8,
   "metadata": {},
   "outputs": [],
   "source": [
    "# getting the probabilities for comparison\n",
    "adv_prob= classifier.predict_proba(adv)\n",
    "#adv_prob"
   ]
  },
  {
   "cell_type": "code",
   "execution_count": 40,
   "metadata": {},
   "outputs": [],
   "source": [
    "# creating labels for acccuracy score\n",
    "y = np.zeros(50)"
   ]
  },
  {
   "cell_type": "code",
   "execution_count": 9,
   "metadata": {},
   "outputs": [],
   "source": [
    "#Run only For Male dataset \n",
    "#Creating labels for accuracy score\n",
    "\n",
    "y = np.ones(50)"
   ]
  },
  {
   "cell_type": "code",
   "execution_count": 10,
   "metadata": {},
   "outputs": [
    {
     "data": {
      "text/plain": [
       "0.0"
      ]
     },
     "execution_count": 10,
     "metadata": {},
     "output_type": "execute_result"
    }
   ],
   "source": [
    "# accuracy score\n",
    "accuracy_score(y, adv_pred)"
   ]
  },
  {
   "cell_type": "code",
   "execution_count": 11,
   "metadata": {},
   "outputs": [],
   "source": [
    "# reading placeholders for saving the adverserial images. Copy the clean images to start off so that images have the same file names\n",
    "addrs = glob.glob('adv_pic/*.jpg')"
   ]
  },
  {
   "cell_type": "code",
   "execution_count": 12,
   "metadata": {},
   "outputs": [],
   "source": [
    "#Save adverserial images  \n",
    "for i, a in enumerate(adv):\n",
    "    plt.imsave(addrs[i],a)"
   ]
  },
  {
   "cell_type": "code",
   "execution_count": 13,
   "metadata": {},
   "outputs": [],
   "source": [
    "# saving the probailities - change the file name accordingly\n",
    "pd.DataFrame(adv_prob).to_csv(\"DeepFool_adv_prob_Males.csv\")"
   ]
  },
  {
   "cell_type": "markdown",
   "metadata": {},
   "source": [
    "# for clean images of adverserial prediction only"
   ]
  },
  {
   "cell_type": "code",
   "execution_count": 25,
   "metadata": {},
   "outputs": [],
   "source": [
    "# load Clean Images\n",
    "import numpy as np\n",
    "import cv2\n",
    "import glob\n",
    "import matplotlib.pyplot as plt\n",
    "#kernel = np.ones((2,2),np.float32)/4\n",
    "# Change address accordingly\n",
    "addrs = glob.glob('Physical_07/*.jpg')\n",
    "image =[]\n",
    "for add in addrs:\n",
    "  img = cv2.imread(add);\n",
    "  img = cv2.resize(img, (64, 64), interpolation=cv2.INTER_CUBIC)\n",
    " # img = cv2.filter2D(img,-1,kernel)\n",
    "  img = cv2.cvtColor(img, cv2.COLOR_BGR2RGB)\n",
    "  img = img /255\n",
    "  image.append(img)\n",
    "\n",
    "clean_img = np.array(image)"
   ]
  },
  {
   "cell_type": "code",
   "execution_count": 169,
   "metadata": {},
   "outputs": [
    {
     "data": {
      "text/plain": [
       "<matplotlib.image.AxesImage at 0x1390f2a20>"
      ]
     },
     "execution_count": 169,
     "metadata": {},
     "output_type": "execute_result"
    },
    {
     "data": {
      "image/png": "[encoded data removed]",
      "text/plain": [
       "<Figure size 432x288 with 1 Axes>"
      ]
     },
     "metadata": {},
     "output_type": "display_data"
    }
   ],
   "source": [
    "plt.imshow(clean_img[1])"
   ]
  },
  {
   "cell_type": "code",
   "execution_count": 170,
   "metadata": {
    "scrolled": false
   },
   "outputs": [
    {
     "data": {
      "text/plain": [
       "array([1, 1, 1, 1, 1, 1, 1, 1, 1, 0, 1, 1, 1, 1, 1, 1, 0, 1, 1, 1, 1, 0,\n",
       "       1, 1, 1, 1, 0, 1, 1, 1, 1, 1, 0, 1, 1, 1, 1, 1, 1, 1, 1, 1, 1, 1,\n",
       "       1, 1, 1, 0, 0, 1])"
      ]
     },
     "execution_count": 170,
     "metadata": {},
     "output_type": "execute_result"
    }
   ],
   "source": [
    "clean_pred = classifier.predict_classes(clean_img)\n",
    "clean_pred"
   ]
  },
  {
   "cell_type": "code",
   "execution_count": 171,
   "metadata": {},
   "outputs": [
    {
     "data": {
      "text/plain": [
       "array([0., 0., 0., 0., 0., 0., 0., 0., 0., 0., 0., 0., 0., 0., 0., 0., 0.,\n",
       "       0., 0., 0., 0., 0., 0., 0., 0., 0., 0., 0., 0., 0., 0., 0., 0., 0.,\n",
       "       0., 0., 0., 0., 0., 0., 0., 0., 0., 0., 0., 0., 0., 0., 0., 0.])"
      ]
     },
     "execution_count": 171,
     "metadata": {},
     "output_type": "execute_result"
    }
   ],
   "source": [
    "# creating labels for acccuracy score\n",
    "y = np.zeros(50)\n",
    "y"
   ]
  },
  {
   "cell_type": "code",
   "execution_count": 172,
   "metadata": {},
   "outputs": [
    {
     "data": {
      "text/plain": [
       "0.14"
      ]
     },
     "execution_count": 172,
     "metadata": {},
     "output_type": "execute_result"
    }
   ],
   "source": [
    "accuracy_score(y, clean_pred)"
   ]
  },
  {
   "cell_type": "code",
   "execution_count": 173,
   "metadata": {},
   "outputs": [],
   "source": [
    "clean_prob = classifier.predict_proba(clean_img)"
   ]
  },
  {
   "cell_type": "code",
   "execution_count": 174,
   "metadata": {},
   "outputs": [
    {
     "data": {
      "text/plain": [
       "array([[3.39064598e-02, 9.66093600e-01],\n",
       "       [4.62543488e-01, 5.37456572e-01],\n",
       "       [8.84102881e-02, 9.11589682e-01],\n",
       "       [8.60243011e-03, 9.91397500e-01],\n",
       "       [1.71518289e-02, 9.82848167e-01],\n",
       "       [1.57492876e-01, 8.42507184e-01],\n",
       "       [3.28679293e-01, 6.71320677e-01],\n",
       "       [3.10105890e-01, 6.89894021e-01],\n",
       "       [4.14868584e-09, 1.00000000e+00],\n",
       "       [5.25012612e-01, 4.74987388e-01],\n",
       "       [2.69178837e-03, 9.97308254e-01],\n",
       "       [3.11896583e-04, 9.99688148e-01],\n",
       "       [2.91889340e-01, 7.08110631e-01],\n",
       "       [4.41452891e-01, 5.58547139e-01],\n",
       "       [1.08304627e-01, 8.91695380e-01],\n",
       "       [6.45275190e-02, 9.35472488e-01],\n",
       "       [6.61205113e-01, 3.38794887e-01],\n",
       "       [1.81036368e-01, 8.18963587e-01],\n",
       "       [5.15183322e-02, 9.48481679e-01],\n",
       "       [1.42879888e-01, 8.57120097e-01],\n",
       "       [1.32690603e-02, 9.86730933e-01],\n",
       "       [6.42212093e-01, 3.57787877e-01],\n",
       "       [6.86797947e-02, 9.31320250e-01],\n",
       "       [1.07071188e-04, 9.99892950e-01],\n",
       "       [1.30871579e-01, 8.69128466e-01],\n",
       "       [6.76035415e-06, 9.99993205e-01],\n",
       "       [9.29645598e-01, 7.03544021e-02],\n",
       "       [4.89376903e-01, 5.10623097e-01],\n",
       "       [3.86031955e-01, 6.13968015e-01],\n",
       "       [9.16831344e-02, 9.08316910e-01],\n",
       "       [3.51381674e-02, 9.64861810e-01],\n",
       "       [8.91759119e-04, 9.99108255e-01],\n",
       "       [7.85357177e-01, 2.14642838e-01],\n",
       "       [1.12558104e-04, 9.99887466e-01],\n",
       "       [1.51078522e-01, 8.48921478e-01],\n",
       "       [3.00567299e-01, 6.99432671e-01],\n",
       "       [3.78501832e-01, 6.21498168e-01],\n",
       "       [4.15562063e-01, 5.84437966e-01],\n",
       "       [3.90526444e-01, 6.09473526e-01],\n",
       "       [2.08004694e-02, 9.79199588e-01],\n",
       "       [2.49638725e-02, 9.75036085e-01],\n",
       "       [1.41398355e-01, 8.58601570e-01],\n",
       "       [3.34240384e-02, 9.66575921e-01],\n",
       "       [1.56469960e-05, 9.99984384e-01],\n",
       "       [1.52489111e-01, 8.47510934e-01],\n",
       "       [9.46736895e-04, 9.99053299e-01],\n",
       "       [2.59219140e-01, 7.40780830e-01],\n",
       "       [9.53816056e-01, 4.61840034e-02],\n",
       "       [9.02302623e-01, 9.76974145e-02],\n",
       "       [1.80470750e-01, 8.19529235e-01]], dtype=float32)"
      ]
     },
     "execution_count": 174,
     "metadata": {},
     "output_type": "execute_result"
    }
   ],
   "source": [
    "clean_prob"
   ]
  },
  {
   "cell_type": "code",
   "execution_count": 175,
   "metadata": {},
   "outputs": [],
   "source": [
    "pd.DataFrame(clean_prob).to_csv(\"Phase7_physical_prob.csv\")"
   ]
  },
  {
   "cell_type": "code",
   "execution_count": 240,
   "metadata": {},
   "outputs": [
    {
     "data": {
      "text/plain": [
       "array([0, 1, 0, 0, 0, 0, 0, 0, 0, 0, 0, 0, 0, 0, 0, 0, 0, 0, 0, 0, 0, 0,\n",
       "       0, 0, 0, 0, 0, 0, 0, 0, 0, 0, 0, 0, 0, 0, 0, 1, 0, 0, 0, 0, 0, 0,\n",
       "       0, 0, 0, 1, 0, 0])"
      ]
     },
     "execution_count": 240,
     "metadata": {},
     "output_type": "execute_result"
    }
   ],
   "source": [
    "# class predictions --- 0 = Female , 1 = Male \n",
    "pred = classifier.predict_classes(adv)\n",
    "pred"
   ]
  },
  {
   "cell_type": "code",
   "execution_count": 241,
   "metadata": {},
   "outputs": [],
   "source": [
    "# Predict probabilities \n",
    "adv_prob = classifier.predict_proba(adv)"
   ]
  }
 ],
 "metadata": {
  "kernelspec": {
   "display_name": "Python 3",
   "language": "python",
   "name": "python3"
  },
  "language_info": {
   "codemirror_mode": {
    "name": "ipython",
    "version": 3
   },
   "file_extension": ".py",
   "mimetype": "text/x-python",
   "name": "python",
   "nbconvert_exporter": "python",
   "pygments_lexer": "ipython3",
   "version": "3.6.5"
  }
 },
 "nbformat": 4,
 "nbformat_minor": 2
}
